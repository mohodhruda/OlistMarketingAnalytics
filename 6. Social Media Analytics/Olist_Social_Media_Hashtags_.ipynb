{
 "cells": [
  {
   "cell_type": "markdown",
   "metadata": {},
   "source": [
    "### Social Media Analytics \n",
    "\n",
    "We created a Social Media Analytics Dashboard in Streamlit. This notebook contains the code for fetching the real time top Twitter hastags for a product keyword. Hashtags can be used for Marketing campaigns to increase their reach to maximum audience.  "
   ]
  },
  {
   "cell_type": "code",
   "execution_count": 1,
   "metadata": {
    "scrolled": true
   },
   "outputs": [
    {
     "name": "stdout",
     "output_type": "stream",
     "text": [
      "Chargers ----- 54450\n",
      "#TuesdayThoughts ----- 58116\n",
      "#RIPPrince ----- 20742\n",
      "Stanley Tucci ----- 27222\n",
      "#AtinySelcaDay ----- 92745\n",
      "Farrah ----- None\n",
      "Bill Mitchell ----- None\n",
      "#MuseumSunshine ----- None\n",
      "Cyrus ----- 27419\n",
      "#NationalTeaDay ----- 18669\n",
      "Negroni ----- None\n",
      "Redd ----- 87946\n",
      "HBO Max ----- None\n",
      "Robert Smith ----- None\n",
      "San Jacinto ----- None\n",
      "Oktoberfest ----- 32509\n",
      "3racha ----- 30402\n",
      "Malik Hooker ----- None\n",
      "Urbana University ----- None\n",
      "Dan Patrick ----- None\n",
      "powder blue ----- None\n",
      "Finger Lakes ----- None\n",
      "Lil Romeo ----- None\n",
      "sehun ----- 226796\n",
      "ART GALLERY ----- 38486\n",
      "The Committee ----- None\n",
      "Little Red Corvette ----- None\n",
      "7 Wisconsin ----- None\n",
      "Fase 3 ----- 54649\n",
      "#ImmigrationBan ----- None\n",
      "#FivePerfectMovies ----- None\n",
      "#QueenElizabeth ----- 18206\n",
      "#ImpeachedPresidentTrump ----- 19564\n",
      "#BadJamesBondPickUpLines ----- None\n",
      "#TriviaTuesday ----- None\n",
      "#TongueOutTuesday ----- None\n",
      "#JoeBidenTVShow ----- None\n",
      "#MacSelena ----- None\n",
      "#HolocaustRemembranceDay ----- 10200\n",
      "#7YearsOfLove ----- 213808\n",
      "#FailoverConf ----- None\n",
      "#IPACHAT ----- None\n",
      "#1YearWithFancy ----- 13732\n",
      "#bookbirthday ----- None\n",
      "#TestimonialTuesday ----- None\n",
      "#VolunteerGeneration ----- None\n",
      "#NLWD20 ----- None\n",
      "#day26oflockdown ----- 15981\n"
     ]
    }
   ],
   "source": [
    "import os\n",
    "os.chdir(r'N:\\ALGORITHMIC MARKETING\\FINAL PROJECT')\n",
    "\n",
    "import credentials  # Import api/access_token keys from credentials.py\n",
    "\n",
    "import twitter\n",
    " \n",
    "CONSUMER_KEY = credentials.API_KEY\n",
    "CONSUMER_SECRET = credentials.API_SECRET_KEY\n",
    "OAUTH_TOKEN = credentials.ACCESS_TOKEN\n",
    "OAUTH_TOKEN_SECRET = credentials.ACCESS_TOKEN_SECRET\n",
    " \n",
    "auth = twitter.oauth.OAuth(OAUTH_TOKEN, OAUTH_TOKEN_SECRET,\n",
    "                           CONSUMER_KEY, CONSUMER_SECRET)\n",
    " \n",
    "twitter_api = twitter.Twitter(auth=auth)\n",
    " \n",
    "# http://woeid.rosselliot.co.nz/lookup/india\n",
    "INDIA_WOE_ID = 23424977 \n",
    " \n",
    "# https://developer.twitter.com/en/docs/trends/trends-for-location/api-reference/get-trends-place\n",
    "india_trends = twitter_api.trends.place(_id=INDIA_WOE_ID)\n",
    " \n",
    "for trending in india_trends[0]['trends']:\n",
    "    print(trending['name'], '-----' , trending['tweet_volume'])"
   ]
  },
  {
   "cell_type": "code",
   "execution_count": null,
   "metadata": {},
   "outputs": [],
   "source": []
  },
  {
   "cell_type": "code",
   "execution_count": 10,
   "metadata": {},
   "outputs": [
    {
     "data": {
      "text/plain": [
       "['HandMade',\n",
       " 'CarpetBag',\n",
       " 'Travel',\n",
       " 'Luggage',\n",
       " 'HandMade',\n",
       " 'CarpetBag',\n",
       " 'Travel',\n",
       " 'Luggage',\n",
       " 'HandMade',\n",
       " 'CarpetBag',\n",
       " 'Travel',\n",
       " 'Luggage',\n",
       " 'HandMade',\n",
       " 'CarpetBag',\n",
       " 'Travel',\n",
       " 'Luggage',\n",
       " 'HandMade',\n",
       " 'CarpetBag',\n",
       " 'Travel',\n",
       " 'Luggage']"
      ]
     },
     "execution_count": 10,
     "metadata": {},
     "output_type": "execute_result"
    }
   ],
   "source": [
    "import twitter\n",
    "import json\n",
    "from urllib.parse import unquote\n",
    "import os\n",
    "os.chdir(r'N:\\ALGORITHMIC MARKETING\\FINAL PROJECT')\n",
    "\n",
    "import credentials  # Import api/access_token keys from credentials.py\n",
    "\n",
    "\n",
    " \n",
    "CONSUMER_KEY = credentials.API_KEY\n",
    "CONSUMER_SECRET = credentials.API_SECRET_KEY\n",
    "OAUTH_TOKEN = credentials.ACCESS_TOKEN\n",
    "OAUTH_TOKEN_SECRET = credentials.ACCESS_TOKEN_SECRET\n",
    "    \n",
    "    \n",
    "auth = twitter.oauth.OAuth(OAUTH_TOKEN, OAUTH_TOKEN_SECRET,\n",
    "                           CONSUMER_KEY, CONSUMER_SECRET)\n",
    " \n",
    "twitter_api = twitter.Twitter(auth=auth)\n",
    " \n",
    "search_result = twitter_api.search.tweets(q='luggage bag', count='2-')\n",
    "    \n",
    "statuses = search_result['statuses']\n",
    " \n",
    "for _ in range(5):\n",
    "    try:\n",
    "        counter = search_result['search_metadata']['next_results']\n",
    "    except KeyError as e:\n",
    "        break\n",
    " \n",
    "    kwargs = dict([kv.split('=') for kv in unquote(counter[1:]).split(\"&\")])\n",
    " \n",
    "    search_results = twitter_api.search.tweets(**kwargs)\n",
    "    statuses += search_results['statuses']\n",
    " \n",
    " \n",
    "hashtags = [hashtag['text']\n",
    "            for status in statuses\n",
    "            for hashtag in status['entities']['hashtags']]\n",
    " \n",
    "#print(json.dumps(status_texts[0:10], indent=1))\n",
    "#print(json.dumps(screen_names[0:10], indent=1))\n",
    "#print(json.dumps(hashtags[0:10], indent=1))\n",
    "hashtags"
   ]
  },
  {
   "cell_type": "code",
   "execution_count": 11,
   "metadata": {},
   "outputs": [],
   "source": [
    "bags = hashtags[0:10]"
   ]
  },
  {
   "cell_type": "code",
   "execution_count": 7,
   "metadata": {},
   "outputs": [],
   "source": [
    "hashtag = {}\n",
    "#\n",
    "#hashtag['Games'] = game\n",
    "hashtag['Top 10 #Hashtags'] = bags"
   ]
  },
  {
   "cell_type": "code",
   "execution_count": 8,
   "metadata": {},
   "outputs": [
    {
     "data": {
      "text/html": [
       "<div>\n",
       "<style scoped>\n",
       "    .dataframe tbody tr th:only-of-type {\n",
       "        vertical-align: middle;\n",
       "    }\n",
       "\n",
       "    .dataframe tbody tr th {\n",
       "        vertical-align: top;\n",
       "    }\n",
       "\n",
       "    .dataframe thead th {\n",
       "        text-align: right;\n",
       "    }\n",
       "</style>\n",
       "<table border=\"1\" class=\"dataframe\">\n",
       "  <thead>\n",
       "    <tr style=\"text-align: right;\">\n",
       "      <th></th>\n",
       "      <th>Top 10 #Hashtags</th>\n",
       "    </tr>\n",
       "  </thead>\n",
       "  <tbody>\n",
       "    <tr>\n",
       "      <th>0</th>\n",
       "      <td>HandMade</td>\n",
       "    </tr>\n",
       "    <tr>\n",
       "      <th>1</th>\n",
       "      <td>CarpetBag</td>\n",
       "    </tr>\n",
       "    <tr>\n",
       "      <th>2</th>\n",
       "      <td>Travel</td>\n",
       "    </tr>\n",
       "    <tr>\n",
       "      <th>3</th>\n",
       "      <td>Luggage</td>\n",
       "    </tr>\n",
       "    <tr>\n",
       "      <th>4</th>\n",
       "      <td>HandMade</td>\n",
       "    </tr>\n",
       "    <tr>\n",
       "      <th>5</th>\n",
       "      <td>CarpetBag</td>\n",
       "    </tr>\n",
       "    <tr>\n",
       "      <th>6</th>\n",
       "      <td>Travel</td>\n",
       "    </tr>\n",
       "    <tr>\n",
       "      <th>7</th>\n",
       "      <td>Luggage</td>\n",
       "    </tr>\n",
       "    <tr>\n",
       "      <th>8</th>\n",
       "      <td>HandMade</td>\n",
       "    </tr>\n",
       "    <tr>\n",
       "      <th>9</th>\n",
       "      <td>CarpetBag</td>\n",
       "    </tr>\n",
       "  </tbody>\n",
       "</table>\n",
       "</div>"
      ],
      "text/plain": [
       "  Top 10 #Hashtags\n",
       "0         HandMade\n",
       "1        CarpetBag\n",
       "2           Travel\n",
       "3          Luggage\n",
       "4         HandMade\n",
       "5        CarpetBag\n",
       "6           Travel\n",
       "7          Luggage\n",
       "8         HandMade\n",
       "9        CarpetBag"
      ]
     },
     "execution_count": 8,
     "metadata": {},
     "output_type": "execute_result"
    }
   ],
   "source": [
    "import pandas as pd\n",
    "hashtag_df = pd.DataFrame(hashtag)\n",
    "hashtag_df"
   ]
  },
  {
   "cell_type": "code",
   "execution_count": 51,
   "metadata": {},
   "outputs": [],
   "source": [
    "hashtag_df.to_csv('hashtags.csv')"
   ]
  },
  {
   "cell_type": "code",
   "execution_count": null,
   "metadata": {},
   "outputs": [],
   "source": []
  },
  {
   "cell_type": "code",
   "execution_count": null,
   "metadata": {},
   "outputs": [],
   "source": []
  }
 ],
 "metadata": {
  "kernelspec": {
   "display_name": "Python 3",
   "language": "python",
   "name": "python3"
  },
  "language_info": {
   "codemirror_mode": {
    "name": "ipython",
    "version": 3
   },
   "file_extension": ".py",
   "mimetype": "text/x-python",
   "name": "python",
   "nbconvert_exporter": "python",
   "pygments_lexer": "ipython3",
   "version": "3.6.5"
  }
 },
 "nbformat": 4,
 "nbformat_minor": 2
}
