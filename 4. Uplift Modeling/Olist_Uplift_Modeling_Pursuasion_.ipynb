{
 "cells": [
  {
   "cell_type": "markdown",
   "metadata": {},
   "source": [
    "## Abstract\n",
    "\n",
    "### Olist Marketing Funnel: Customer Segmentation, RFM Modeling, Persuasion Modeling, Targeted Recommendations with controlled A/B Testing, Social Media Analytics\n",
    "\n",
    "A Data Driven Algorithmic Marketing system for brazil’s biggest online marketplace, to segment customers, to do Cohort Analysis, RFM Modeling, Uplift Modeling, Identify Upselling and Cross Selling opportunities using Targeted Recommendations, Context Aware Recommendation using product Features, Pricing Optimization. \n"
   ]
  },
  {
   "cell_type": "markdown",
   "metadata": {},
   "source": [
    "### Uplift or Pursuasion Modeling\n",
    "\n",
    "Customer Segmentation helps Marketers to increase conversion and hence be cost-efficient. But imagine a case that you are about to launch a promotional campaign and you know which segment you want to target whether Big Spenders or Potential Loyalists. \n",
    "The question arises - Do you need to send the offer to everyone? No. \n",
    "\n",
    "In your current target group, there will be customers who are going to purchase anyways. You will cannibalize yourself by giving the promotion. We can summarize the segments based on this approach like below:\n",
    "\n",
    "#### Treatment Responders: Customers that will purchase only if they receive an offer\n",
    "#### Treatment Non-Responders: Customer that won’t purchase in any case\n",
    "#### Control Responders: Customers that will purchase without an offer\n",
    "#### Control Non-Responders: Customers that will not purchase if they don’t receive an offer\n",
    "\n",
    "\n",
    "You need to target Treatment Responders (TR) and Control Non-Responders (CN). Since they won’t purchase unless you give an offer, these groups are boosting your uplift in promotional campaigns. On the other hand, you need to avoid targeting Treatment Non-Responders (TN) and Control Responders (CR). You will not benefit from targeting TN and, CN will make you cannibalize.\n",
    "\n",
    "\n",
    "\n",
    "To identify which customers fall into which buckets, we use Uplift Modeling. "
   ]
  },
  {
   "cell_type": "code",
   "execution_count": 1,
   "metadata": {},
   "outputs": [],
   "source": [
    "import pandas as pd # for dataframes\n",
    "import matplotlib.pyplot as plt # for plotting graphs\n",
    "import seaborn as sns # for plotting graphs\n",
    "import re\n",
    "from pandas.plotting import scatter_matrix\n",
    "import plotly.offline as py\n",
    "import plotly.graph_objs as go\n",
    "import os\n",
    "\n",
    "import sklearn\n",
    "import xgboost as xgb\n",
    "from sklearn.model_selection import KFold, cross_val_score, train_test_split\n",
    "import warnings\n",
    "warnings.filterwarnings(\"ignore\")\n",
    "\n",
    "from datetime import datetime, timedelta,date\n",
    "from sklearn.metrics import classification_report,confusion_matrix\n",
    "import matplotlib.pyplot as plt\n",
    "import numpy as np\n",
    "import seaborn as sns\n",
    "from __future__ import division\n",
    "from sklearn.cluster import KMeans\n",
    "%matplotlib inline\n"
   ]
  },
  {
   "cell_type": "code",
   "execution_count": 2,
   "metadata": {},
   "outputs": [],
   "source": [
    "def configure_plotly_browser_state():\n",
    "    import IPython\n",
    "    display(IPython.core.display.HTML('''\n",
    "        <script src=\"/static/components/requirejs/require.js\"></script>\n",
    "        <script>\n",
    "          requirejs.config({\n",
    "            paths: {\n",
    "              base: '/static/base',\n",
    "              plotly: 'https://cdn.plot.ly/plotly-latest.min.js?noext',\n",
    "            },\n",
    "          });\n",
    "        </script>\n",
    "        '''))\n"
   ]
  },
  {
   "cell_type": "code",
   "execution_count": 3,
   "metadata": {},
   "outputs": [],
   "source": [
    "os.chdir(r'N:\\Digital Marketing Analytics')"
   ]
  },
  {
   "cell_type": "code",
   "execution_count": 4,
   "metadata": {},
   "outputs": [
    {
     "data": {
      "text/html": [
       "<div>\n",
       "<style scoped>\n",
       "    .dataframe tbody tr th:only-of-type {\n",
       "        vertical-align: middle;\n",
       "    }\n",
       "\n",
       "    .dataframe tbody tr th {\n",
       "        vertical-align: top;\n",
       "    }\n",
       "\n",
       "    .dataframe thead th {\n",
       "        text-align: right;\n",
       "    }\n",
       "</style>\n",
       "<table border=\"1\" class=\"dataframe\">\n",
       "  <thead>\n",
       "    <tr style=\"text-align: right;\">\n",
       "      <th></th>\n",
       "      <th>customer_unique_id</th>\n",
       "      <th>recency</th>\n",
       "      <th>frequency</th>\n",
       "      <th>history</th>\n",
       "      <th>used_discount</th>\n",
       "      <th>used_bogo</th>\n",
       "      <th>zip_code</th>\n",
       "      <th>is_referral</th>\n",
       "      <th>channel</th>\n",
       "      <th>offer</th>\n",
       "      <th>conversion</th>\n",
       "    </tr>\n",
       "  </thead>\n",
       "  <tbody>\n",
       "    <tr>\n",
       "      <th>0</th>\n",
       "      <td>0000b849f77a49e4a4ce2b2a4ca5be3f</td>\n",
       "      <td>14</td>\n",
       "      <td>5</td>\n",
       "      <td>432.90</td>\n",
       "      <td>0</td>\n",
       "      <td>0</td>\n",
       "      <td>Urban</td>\n",
       "      <td>0</td>\n",
       "      <td>Phone</td>\n",
       "      <td>No Offer</td>\n",
       "      <td>0</td>\n",
       "    </tr>\n",
       "    <tr>\n",
       "      <th>1</th>\n",
       "      <td>0000f46a3911fa3c0805444483337064</td>\n",
       "      <td>10</td>\n",
       "      <td>3</td>\n",
       "      <td>583.87</td>\n",
       "      <td>0</td>\n",
       "      <td>0</td>\n",
       "      <td>Urban</td>\n",
       "      <td>1</td>\n",
       "      <td>Web</td>\n",
       "      <td>No Offer</td>\n",
       "      <td>0</td>\n",
       "    </tr>\n",
       "    <tr>\n",
       "      <th>2</th>\n",
       "      <td>0004bd2a26a76fe21f786e4fbd80607f</td>\n",
       "      <td>1</td>\n",
       "      <td>4</td>\n",
       "      <td>480.54</td>\n",
       "      <td>0</td>\n",
       "      <td>0</td>\n",
       "      <td>Suburban</td>\n",
       "      <td>1</td>\n",
       "      <td>Web</td>\n",
       "      <td>Buy One Get One</td>\n",
       "      <td>0</td>\n",
       "    </tr>\n",
       "    <tr>\n",
       "      <th>3</th>\n",
       "      <td>00050ab1314c0e55a6ca13cf7181fecf</td>\n",
       "      <td>18</td>\n",
       "      <td>2</td>\n",
       "      <td>160.36</td>\n",
       "      <td>0</td>\n",
       "      <td>1</td>\n",
       "      <td>Rural</td>\n",
       "      <td>1</td>\n",
       "      <td>Web</td>\n",
       "      <td>Discount</td>\n",
       "      <td>0</td>\n",
       "    </tr>\n",
       "    <tr>\n",
       "      <th>4</th>\n",
       "      <td>0005ef4cd20d2893f0d9fbd94d3c0d97</td>\n",
       "      <td>40</td>\n",
       "      <td>1</td>\n",
       "      <td>187.91</td>\n",
       "      <td>0</td>\n",
       "      <td>1</td>\n",
       "      <td>Suburban</td>\n",
       "      <td>0</td>\n",
       "      <td>Web</td>\n",
       "      <td>Discount</td>\n",
       "      <td>0</td>\n",
       "    </tr>\n",
       "    <tr>\n",
       "      <th>...</th>\n",
       "      <td>...</td>\n",
       "      <td>...</td>\n",
       "      <td>...</td>\n",
       "      <td>...</td>\n",
       "      <td>...</td>\n",
       "      <td>...</td>\n",
       "      <td>...</td>\n",
       "      <td>...</td>\n",
       "      <td>...</td>\n",
       "      <td>...</td>\n",
       "      <td>...</td>\n",
       "    </tr>\n",
       "    <tr>\n",
       "      <th>41725</th>\n",
       "      <td>fffa431dd3fcdefea4b1777d114144f2</td>\n",
       "      <td>13</td>\n",
       "      <td>4</td>\n",
       "      <td>2992.10</td>\n",
       "      <td>0</td>\n",
       "      <td>0</td>\n",
       "      <td>Urban</td>\n",
       "      <td>1</td>\n",
       "      <td>Web</td>\n",
       "      <td>Buy One Get One</td>\n",
       "      <td>0</td>\n",
       "    </tr>\n",
       "    <tr>\n",
       "      <th>41726</th>\n",
       "      <td>fffb09418989a0dbff854a28163e47c6</td>\n",
       "      <td>24</td>\n",
       "      <td>1</td>\n",
       "      <td>329.38</td>\n",
       "      <td>1</td>\n",
       "      <td>1</td>\n",
       "      <td>Urban</td>\n",
       "      <td>1</td>\n",
       "      <td>Phone</td>\n",
       "      <td>Buy One Get One</td>\n",
       "      <td>0</td>\n",
       "    </tr>\n",
       "    <tr>\n",
       "      <th>41727</th>\n",
       "      <td>fffbf87b7a1a6fa8b03f081c5f51a201</td>\n",
       "      <td>4</td>\n",
       "      <td>2</td>\n",
       "      <td>199.50</td>\n",
       "      <td>0</td>\n",
       "      <td>0</td>\n",
       "      <td>Suburban</td>\n",
       "      <td>0</td>\n",
       "      <td>Phone</td>\n",
       "      <td>Discount</td>\n",
       "      <td>0</td>\n",
       "    </tr>\n",
       "    <tr>\n",
       "      <th>41728</th>\n",
       "      <td>fffcc512b7dfecaffd80f13614af1d16</td>\n",
       "      <td>30</td>\n",
       "      <td>1</td>\n",
       "      <td>45.10</td>\n",
       "      <td>1</td>\n",
       "      <td>1</td>\n",
       "      <td>Suburban</td>\n",
       "      <td>0</td>\n",
       "      <td>Phone</td>\n",
       "      <td>No Offer</td>\n",
       "      <td>0</td>\n",
       "    </tr>\n",
       "    <tr>\n",
       "      <th>41729</th>\n",
       "      <td>fffea47cd6d3cc0a88bd621562a9d061</td>\n",
       "      <td>34</td>\n",
       "      <td>2</td>\n",
       "      <td>366.08</td>\n",
       "      <td>1</td>\n",
       "      <td>0</td>\n",
       "      <td>Rural</td>\n",
       "      <td>0</td>\n",
       "      <td>Web</td>\n",
       "      <td>No Offer</td>\n",
       "      <td>1</td>\n",
       "    </tr>\n",
       "  </tbody>\n",
       "</table>\n",
       "<p>41730 rows × 11 columns</p>\n",
       "</div>"
      ],
      "text/plain": [
       "                     customer_unique_id  recency  frequency  history  \\\n",
       "0      0000b849f77a49e4a4ce2b2a4ca5be3f       14          5   432.90   \n",
       "1      0000f46a3911fa3c0805444483337064       10          3   583.87   \n",
       "2      0004bd2a26a76fe21f786e4fbd80607f        1          4   480.54   \n",
       "3      00050ab1314c0e55a6ca13cf7181fecf       18          2   160.36   \n",
       "4      0005ef4cd20d2893f0d9fbd94d3c0d97       40          1   187.91   \n",
       "...                                 ...      ...        ...      ...   \n",
       "41725  fffa431dd3fcdefea4b1777d114144f2       13          4  2992.10   \n",
       "41726  fffb09418989a0dbff854a28163e47c6       24          1   329.38   \n",
       "41727  fffbf87b7a1a6fa8b03f081c5f51a201        4          2   199.50   \n",
       "41728  fffcc512b7dfecaffd80f13614af1d16       30          1    45.10   \n",
       "41729  fffea47cd6d3cc0a88bd621562a9d061       34          2   366.08   \n",
       "\n",
       "       used_discount  used_bogo  zip_code  is_referral channel  \\\n",
       "0                  0          0     Urban            0   Phone   \n",
       "1                  0          0     Urban            1     Web   \n",
       "2                  0          0  Suburban            1     Web   \n",
       "3                  0          1     Rural            1     Web   \n",
       "4                  0          1  Suburban            0     Web   \n",
       "...              ...        ...       ...          ...     ...   \n",
       "41725              0          0     Urban            1     Web   \n",
       "41726              1          1     Urban            1   Phone   \n",
       "41727              0          0  Suburban            0   Phone   \n",
       "41728              1          1  Suburban            0   Phone   \n",
       "41729              1          0     Rural            0     Web   \n",
       "\n",
       "                 offer  conversion  \n",
       "0             No Offer           0  \n",
       "1             No Offer           0  \n",
       "2      Buy One Get One           0  \n",
       "3             Discount           0  \n",
       "4             Discount           0  \n",
       "...                ...         ...  \n",
       "41725  Buy One Get One           0  \n",
       "41726  Buy One Get One           0  \n",
       "41727         Discount           0  \n",
       "41728         No Offer           0  \n",
       "41729         No Offer           1  \n",
       "\n",
       "[41730 rows x 11 columns]"
      ]
     },
     "execution_count": 4,
     "metadata": {},
     "output_type": "execute_result"
    }
   ],
   "source": [
    "Olist_db = pd.read_csv('uplift_data.csv')\n",
    "Olist_db"
   ]
  },
  {
   "cell_type": "code",
   "execution_count": 5,
   "metadata": {},
   "outputs": [],
   "source": [
    "def order_cluster(cluster_field_name, target_field_name,df,ascending):\n",
    "    new_cluster_field_name = 'new_' + cluster_field_name\n",
    "    df_new = df.groupby(cluster_field_name)[target_field_name].mean().reset_index()\n",
    "    df_new = df_new.sort_values(by=target_field_name,ascending=ascending).reset_index(drop=True)\n",
    "    df_new['index'] = df_new.index\n",
    "    df_final = pd.merge(df,df_new[[cluster_field_name,'index']], on=cluster_field_name)\n",
    "    df_final = df_final.drop([cluster_field_name],axis=1)\n",
    "    df_final = df_final.rename(columns={\"index\":cluster_field_name})\n",
    "    return df_final"
   ]
  },
  {
   "cell_type": "code",
   "execution_count": 6,
   "metadata": {},
   "outputs": [
    {
     "data": {
      "text/plain": [
       "0.14739995207284928"
      ]
     },
     "execution_count": 6,
     "metadata": {},
     "output_type": "execute_result"
    }
   ],
   "source": [
    "Olist_db.conversion.mean()"
   ]
  },
  {
   "cell_type": "code",
   "execution_count": 7,
   "metadata": {},
   "outputs": [],
   "source": [
    "def calc_uplift(df):\n",
    "    avg_order_value = 15\n",
    "    \n",
    "    #calculate conversions for each offer type\n",
    "    base_conv = df[df.offer == 'No Offer']['conversion'].mean()\n",
    "    disc_conv = df[df.offer == 'Discount']['conversion'].mean()\n",
    "    bogo_conv = df[df.offer == 'Buy One Get One']['conversion'].mean()\n",
    "    \n",
    "    #calculate conversion uplift for discount and bogo\n",
    "    disc_conv_uplift = disc_conv - base_conv\n",
    "    bogo_conv_uplift = bogo_conv - base_conv\n",
    "    \n",
    "    #calculate order uplift\n",
    "    disc_order_uplift = disc_conv_uplift * len(df[df.offer == 'Discount']['conversion'])\n",
    "    bogo_order_uplift = bogo_conv_uplift * len(df[df.offer == 'Buy One Get One']['conversion'])\n",
    "    \n",
    "    #calculate revenue uplift\n",
    "    disc_rev_uplift = disc_order_uplift * avg_order_value\n",
    "    bogo_rev_uplift = bogo_order_uplift * avg_order_value\n",
    "    \n",
    "    \n",
    "    print('Discount Conversion Uplift: {0}%'.format(np.round(disc_conv_uplift*100,2)))\n",
    "    print('Discount Order Uplift: {0}'.format(np.round(disc_order_uplift,2)))\n",
    "    print('Discount Revenue Uplift: ${0}\\n'.format(np.round(disc_rev_uplift,2)))\n",
    "    \n",
    "    if len(df[df.offer == 'Buy One Get One']['conversion']) > 0:\n",
    "          \n",
    "        print('-------------- \\n')\n",
    "        print('BOGO Conversion Uplift: {0}%'.format(np.round(bogo_conv_uplift*100,2)))\n",
    "        print('BOGO Order Uplift: {0}'.format(np.round(bogo_order_uplift,2)))\n",
    "        print('BOGO Revenue Uplift: ${0}'.format(np.round(bogo_rev_uplift,2)))"
   ]
  },
  {
   "cell_type": "markdown",
   "metadata": {},
   "source": [
    "Before building the model, let’s apply our calc_uplift function to see the current uplift of this campaign as a benchmark:"
   ]
  },
  {
   "cell_type": "code",
   "execution_count": 8,
   "metadata": {},
   "outputs": [
    {
     "name": "stdout",
     "output_type": "stream",
     "text": [
      "Discount Conversion Uplift: 0.21%\n",
      "Discount Order Uplift: 29.28\n",
      "Discount Revenue Uplift: $439.27\n",
      "\n",
      "-------------- \n",
      "\n",
      "BOGO Conversion Uplift: -0.49%\n",
      "BOGO Order Uplift: -69.62\n",
      "BOGO Revenue Uplift: $-1044.25\n"
     ]
    }
   ],
   "source": [
    "calc_uplift(Olist_db)"
   ]
  },
  {
   "cell_type": "markdown",
   "metadata": {},
   "source": [
    "Currently, our label is if a customer converted or not (1 or 0). We need to create four classes for TR, TN, CR, and CN. We know that the customers who received discount and bogo offers are Treatment and the rest is control. Let’s create a campaign_group column make this info visible:"
   ]
  },
  {
   "cell_type": "code",
   "execution_count": 9,
   "metadata": {},
   "outputs": [],
   "source": [
    "Olist_db['campaign_group'] = 'treatment'\n",
    "Olist_db.loc[Olist_db.offer == 'No Offer', 'campaign_group'] = 'control'"
   ]
  },
  {
   "cell_type": "code",
   "execution_count": 10,
   "metadata": {},
   "outputs": [],
   "source": [
    "Olist_db['target_class'] = 0 #CN\n",
    "Olist_db.loc[(Olist_db.campaign_group == 'control') & (Olist_db.conversion > 0),'target_class'] = 1 #CR\n",
    "Olist_db.loc[(Olist_db.campaign_group == 'treatment') & (Olist_db.conversion == 0),'target_class'] = 2 #TN\n",
    "Olist_db.loc[(Olist_db.campaign_group == 'treatment') & (Olist_db.conversion > 0),'target_class'] = 3 #TR"
   ]
  },
  {
   "cell_type": "markdown",
   "metadata": {},
   "source": [
    "The mapping of the classes are below:\n",
    "- 0 -> Control Non-Responders\n",
    "- 1 -> Control Responders\n",
    "- 2 -> Treatment Non-Responders\n",
    "- 3 -> Treatment Responders"
   ]
  },
  {
   "cell_type": "code",
   "execution_count": 11,
   "metadata": {},
   "outputs": [
    {
     "data": {
      "text/plain": [
       "2    23875\n",
       "0    11704\n",
       "3     4112\n",
       "1     2039\n",
       "Name: target_class, dtype: int64"
      ]
     },
     "execution_count": 11,
     "metadata": {},
     "output_type": "execute_result"
    }
   ],
   "source": [
    "Olist_db.target_class.value_counts()"
   ]
  },
  {
   "cell_type": "code",
   "execution_count": 12,
   "metadata": {},
   "outputs": [
    {
     "data": {
      "text/plain": [
       "2    0.572130\n",
       "0    0.280470\n",
       "3    0.098538\n",
       "1    0.048862\n",
       "Name: target_class, dtype: float64"
      ]
     },
     "execution_count": 12,
     "metadata": {},
     "output_type": "execute_result"
    }
   ],
   "source": [
    "Olist_db.target_class.value_counts()/len(Olist_db)"
   ]
  },
  {
   "cell_type": "code",
   "execution_count": 13,
   "metadata": {},
   "outputs": [],
   "source": [
    "kmeans = KMeans(n_clusters=5)\n",
    "kmeans.fit(Olist_db[['history']])\n",
    "Olist_db['history_cluster'] = kmeans.predict(Olist_db[['history']])"
   ]
  },
  {
   "cell_type": "code",
   "execution_count": 14,
   "metadata": {},
   "outputs": [
    {
     "data": {
      "text/plain": [
       "Index(['customer_unique_id', 'recency', 'frequency', 'history',\n",
       "       'used_discount', 'used_bogo', 'zip_code', 'is_referral', 'channel',\n",
       "       'offer', 'conversion', 'campaign_group', 'target_class',\n",
       "       'history_cluster'],\n",
       "      dtype='object')"
      ]
     },
     "execution_count": 14,
     "metadata": {},
     "output_type": "execute_result"
    }
   ],
   "source": [
    "Olist_db = order_cluster('history_cluster', 'history',Olist_db,True)\n",
    "Olist_db.columns"
   ]
  },
  {
   "cell_type": "code",
   "execution_count": 15,
   "metadata": {},
   "outputs": [],
   "source": [
    "df_model = Olist_db.drop(['offer','campaign_group','conversion', 'customer_unique_id'],axis=1)\n",
    "df_model = pd.get_dummies(df_model)"
   ]
  },
  {
   "cell_type": "code",
   "execution_count": 16,
   "metadata": {},
   "outputs": [
    {
     "data": {
      "text/html": [
       "<div>\n",
       "<style scoped>\n",
       "    .dataframe tbody tr th:only-of-type {\n",
       "        vertical-align: middle;\n",
       "    }\n",
       "\n",
       "    .dataframe tbody tr th {\n",
       "        vertical-align: top;\n",
       "    }\n",
       "\n",
       "    .dataframe thead th {\n",
       "        text-align: right;\n",
       "    }\n",
       "</style>\n",
       "<table border=\"1\" class=\"dataframe\">\n",
       "  <thead>\n",
       "    <tr style=\"text-align: right;\">\n",
       "      <th></th>\n",
       "      <th>recency</th>\n",
       "      <th>frequency</th>\n",
       "      <th>history</th>\n",
       "      <th>used_discount</th>\n",
       "      <th>used_bogo</th>\n",
       "      <th>is_referral</th>\n",
       "      <th>target_class</th>\n",
       "      <th>history_cluster</th>\n",
       "      <th>zip_code_Rural</th>\n",
       "      <th>zip_code_Suburban</th>\n",
       "      <th>zip_code_Urban</th>\n",
       "      <th>channel_Phone</th>\n",
       "      <th>channel_Web</th>\n",
       "    </tr>\n",
       "  </thead>\n",
       "  <tbody>\n",
       "    <tr>\n",
       "      <th>0</th>\n",
       "      <td>14</td>\n",
       "      <td>5</td>\n",
       "      <td>432.90</td>\n",
       "      <td>0</td>\n",
       "      <td>0</td>\n",
       "      <td>0</td>\n",
       "      <td>0</td>\n",
       "      <td>0</td>\n",
       "      <td>0</td>\n",
       "      <td>0</td>\n",
       "      <td>1</td>\n",
       "      <td>1</td>\n",
       "      <td>0</td>\n",
       "    </tr>\n",
       "    <tr>\n",
       "      <th>1</th>\n",
       "      <td>10</td>\n",
       "      <td>3</td>\n",
       "      <td>583.87</td>\n",
       "      <td>0</td>\n",
       "      <td>0</td>\n",
       "      <td>1</td>\n",
       "      <td>0</td>\n",
       "      <td>0</td>\n",
       "      <td>0</td>\n",
       "      <td>0</td>\n",
       "      <td>1</td>\n",
       "      <td>0</td>\n",
       "      <td>1</td>\n",
       "    </tr>\n",
       "    <tr>\n",
       "      <th>2</th>\n",
       "      <td>1</td>\n",
       "      <td>4</td>\n",
       "      <td>480.54</td>\n",
       "      <td>0</td>\n",
       "      <td>0</td>\n",
       "      <td>1</td>\n",
       "      <td>2</td>\n",
       "      <td>0</td>\n",
       "      <td>0</td>\n",
       "      <td>1</td>\n",
       "      <td>0</td>\n",
       "      <td>0</td>\n",
       "      <td>1</td>\n",
       "    </tr>\n",
       "    <tr>\n",
       "      <th>3</th>\n",
       "      <td>18</td>\n",
       "      <td>2</td>\n",
       "      <td>160.36</td>\n",
       "      <td>0</td>\n",
       "      <td>1</td>\n",
       "      <td>1</td>\n",
       "      <td>2</td>\n",
       "      <td>0</td>\n",
       "      <td>1</td>\n",
       "      <td>0</td>\n",
       "      <td>0</td>\n",
       "      <td>0</td>\n",
       "      <td>1</td>\n",
       "    </tr>\n",
       "    <tr>\n",
       "      <th>4</th>\n",
       "      <td>40</td>\n",
       "      <td>1</td>\n",
       "      <td>187.91</td>\n",
       "      <td>0</td>\n",
       "      <td>1</td>\n",
       "      <td>0</td>\n",
       "      <td>2</td>\n",
       "      <td>0</td>\n",
       "      <td>0</td>\n",
       "      <td>1</td>\n",
       "      <td>0</td>\n",
       "      <td>0</td>\n",
       "      <td>1</td>\n",
       "    </tr>\n",
       "  </tbody>\n",
       "</table>\n",
       "</div>"
      ],
      "text/plain": [
       "   recency  frequency  history  used_discount  used_bogo  is_referral  \\\n",
       "0       14          5   432.90              0          0            0   \n",
       "1       10          3   583.87              0          0            1   \n",
       "2        1          4   480.54              0          0            1   \n",
       "3       18          2   160.36              0          1            1   \n",
       "4       40          1   187.91              0          1            0   \n",
       "\n",
       "   target_class  history_cluster  zip_code_Rural  zip_code_Suburban  \\\n",
       "0             0                0               0                  0   \n",
       "1             0                0               0                  0   \n",
       "2             2                0               0                  1   \n",
       "3             2                0               1                  0   \n",
       "4             2                0               0                  1   \n",
       "\n",
       "   zip_code_Urban  channel_Phone  channel_Web  \n",
       "0               1              1            0  \n",
       "1               1              0            1  \n",
       "2               0              0            1  \n",
       "3               0              0            1  \n",
       "4               0              0            1  "
      ]
     },
     "execution_count": 16,
     "metadata": {},
     "output_type": "execute_result"
    }
   ],
   "source": [
    "df_model.head()"
   ]
  },
  {
   "cell_type": "code",
   "execution_count": 17,
   "metadata": {},
   "outputs": [],
   "source": [
    "#create feature set and labels\n",
    "X = df_model.drop(['target_class'],axis=1)\n",
    "y = df_model.target_class"
   ]
  },
  {
   "cell_type": "code",
   "execution_count": 18,
   "metadata": {},
   "outputs": [],
   "source": [
    "X_train, X_test, y_train, y_test = train_test_split(X, y, test_size=0.2, random_state=42)"
   ]
  },
  {
   "cell_type": "code",
   "execution_count": 19,
   "metadata": {},
   "outputs": [
    {
     "data": {
      "text/plain": [
       "XGBClassifier(base_score=0.5, booster='gbtree', colsample_bylevel=1,\n",
       "       colsample_bytree=1, gamma=0, learning_rate=0.1, max_delta_step=0,\n",
       "       max_depth=3, min_child_weight=1, missing=None, n_estimators=100,\n",
       "       n_jobs=1, nthread=None, objective='multi:softprob', random_state=0,\n",
       "       reg_alpha=0, reg_lambda=1, scale_pos_weight=1, seed=None,\n",
       "       silent=True, subsample=1)"
      ]
     },
     "execution_count": 19,
     "metadata": {},
     "output_type": "execute_result"
    }
   ],
   "source": [
    "xgb_model = xgb.XGBClassifier().fit(X_train, y_train)\n",
    "xgb_model"
   ]
  },
  {
   "cell_type": "code",
   "execution_count": 20,
   "metadata": {},
   "outputs": [
    {
     "data": {
      "text/plain": [
       "array([0.33609498, 0.00104272, 0.6618196 , 0.00104272], dtype=float32)"
      ]
     },
     "execution_count": 20,
     "metadata": {},
     "output_type": "execute_result"
    }
   ],
   "source": [
    "class_probs = xgb_model.predict_proba(X_test)\n",
    "class_probs[0]"
   ]
  },
  {
   "cell_type": "code",
   "execution_count": 21,
   "metadata": {},
   "outputs": [],
   "source": [
    "X_test['proba_CN'] = class_probs[:,0] \n",
    "X_test['proba_CR'] = class_probs[:,1] \n",
    "X_test['proba_TN'] = class_probs[:,2] \n",
    "X_test['proba_TR'] = class_probs[:,3]"
   ]
  },
  {
   "cell_type": "code",
   "execution_count": 22,
   "metadata": {},
   "outputs": [
    {
     "data": {
      "text/html": [
       "<div>\n",
       "<style scoped>\n",
       "    .dataframe tbody tr th:only-of-type {\n",
       "        vertical-align: middle;\n",
       "    }\n",
       "\n",
       "    .dataframe tbody tr th {\n",
       "        vertical-align: top;\n",
       "    }\n",
       "\n",
       "    .dataframe thead th {\n",
       "        text-align: right;\n",
       "    }\n",
       "</style>\n",
       "<table border=\"1\" class=\"dataframe\">\n",
       "  <thead>\n",
       "    <tr style=\"text-align: right;\">\n",
       "      <th></th>\n",
       "      <th>recency</th>\n",
       "      <th>frequency</th>\n",
       "      <th>history</th>\n",
       "      <th>used_discount</th>\n",
       "      <th>used_bogo</th>\n",
       "      <th>is_referral</th>\n",
       "      <th>history_cluster</th>\n",
       "      <th>zip_code_Rural</th>\n",
       "      <th>zip_code_Suburban</th>\n",
       "      <th>zip_code_Urban</th>\n",
       "      <th>channel_Phone</th>\n",
       "      <th>channel_Web</th>\n",
       "      <th>proba_CN</th>\n",
       "      <th>proba_CR</th>\n",
       "      <th>proba_TN</th>\n",
       "      <th>proba_TR</th>\n",
       "      <th>uplift_score</th>\n",
       "    </tr>\n",
       "  </thead>\n",
       "  <tbody>\n",
       "    <tr>\n",
       "      <th>23651</th>\n",
       "      <td>7</td>\n",
       "      <td>3</td>\n",
       "      <td>317.19</td>\n",
       "      <td>0</td>\n",
       "      <td>1</td>\n",
       "      <td>0</td>\n",
       "      <td>0</td>\n",
       "      <td>0</td>\n",
       "      <td>1</td>\n",
       "      <td>0</td>\n",
       "      <td>1</td>\n",
       "      <td>0</td>\n",
       "      <td>0.336095</td>\n",
       "      <td>0.001043</td>\n",
       "      <td>0.661820</td>\n",
       "      <td>0.001043</td>\n",
       "      <td>-0.325725</td>\n",
       "    </tr>\n",
       "    <tr>\n",
       "      <th>24383</th>\n",
       "      <td>9</td>\n",
       "      <td>2</td>\n",
       "      <td>150.58</td>\n",
       "      <td>0</td>\n",
       "      <td>1</td>\n",
       "      <td>1</td>\n",
       "      <td>0</td>\n",
       "      <td>0</td>\n",
       "      <td>1</td>\n",
       "      <td>0</td>\n",
       "      <td>0</td>\n",
       "      <td>1</td>\n",
       "      <td>0.333950</td>\n",
       "      <td>0.001046</td>\n",
       "      <td>0.663959</td>\n",
       "      <td>0.001046</td>\n",
       "      <td>-0.330009</td>\n",
       "    </tr>\n",
       "    <tr>\n",
       "      <th>4772</th>\n",
       "      <td>5</td>\n",
       "      <td>1</td>\n",
       "      <td>53.35</td>\n",
       "      <td>0</td>\n",
       "      <td>1</td>\n",
       "      <td>1</td>\n",
       "      <td>0</td>\n",
       "      <td>0</td>\n",
       "      <td>1</td>\n",
       "      <td>0</td>\n",
       "      <td>1</td>\n",
       "      <td>0</td>\n",
       "      <td>0.339212</td>\n",
       "      <td>0.001041</td>\n",
       "      <td>0.658705</td>\n",
       "      <td>0.001041</td>\n",
       "      <td>-0.319493</td>\n",
       "    </tr>\n",
       "    <tr>\n",
       "      <th>36183</th>\n",
       "      <td>1</td>\n",
       "      <td>4</td>\n",
       "      <td>863.10</td>\n",
       "      <td>0</td>\n",
       "      <td>0</td>\n",
       "      <td>0</td>\n",
       "      <td>1</td>\n",
       "      <td>0</td>\n",
       "      <td>0</td>\n",
       "      <td>1</td>\n",
       "      <td>1</td>\n",
       "      <td>0</td>\n",
       "      <td>0.342116</td>\n",
       "      <td>0.001040</td>\n",
       "      <td>0.655803</td>\n",
       "      <td>0.001040</td>\n",
       "      <td>-0.313688</td>\n",
       "    </tr>\n",
       "    <tr>\n",
       "      <th>16729</th>\n",
       "      <td>9</td>\n",
       "      <td>3</td>\n",
       "      <td>239.13</td>\n",
       "      <td>0</td>\n",
       "      <td>0</td>\n",
       "      <td>0</td>\n",
       "      <td>0</td>\n",
       "      <td>0</td>\n",
       "      <td>0</td>\n",
       "      <td>1</td>\n",
       "      <td>1</td>\n",
       "      <td>0</td>\n",
       "      <td>0.322277</td>\n",
       "      <td>0.001041</td>\n",
       "      <td>0.675641</td>\n",
       "      <td>0.001041</td>\n",
       "      <td>-0.353364</td>\n",
       "    </tr>\n",
       "  </tbody>\n",
       "</table>\n",
       "</div>"
      ],
      "text/plain": [
       "       recency  frequency  history  used_discount  used_bogo  is_referral  \\\n",
       "23651        7          3   317.19              0          1            0   \n",
       "24383        9          2   150.58              0          1            1   \n",
       "4772         5          1    53.35              0          1            1   \n",
       "36183        1          4   863.10              0          0            0   \n",
       "16729        9          3   239.13              0          0            0   \n",
       "\n",
       "       history_cluster  zip_code_Rural  zip_code_Suburban  zip_code_Urban  \\\n",
       "23651                0               0                  1               0   \n",
       "24383                0               0                  1               0   \n",
       "4772                 0               0                  1               0   \n",
       "36183                1               0                  0               1   \n",
       "16729                0               0                  0               1   \n",
       "\n",
       "       channel_Phone  channel_Web  proba_CN  proba_CR  proba_TN  proba_TR  \\\n",
       "23651              1            0  0.336095  0.001043  0.661820  0.001043   \n",
       "24383              0            1  0.333950  0.001046  0.663959  0.001046   \n",
       "4772               1            0  0.339212  0.001041  0.658705  0.001041   \n",
       "36183              1            0  0.342116  0.001040  0.655803  0.001040   \n",
       "16729              1            0  0.322277  0.001041  0.675641  0.001041   \n",
       "\n",
       "       uplift_score  \n",
       "23651     -0.325725  \n",
       "24383     -0.330009  \n",
       "4772      -0.319493  \n",
       "36183     -0.313688  \n",
       "16729     -0.353364  "
      ]
     },
     "execution_count": 22,
     "metadata": {},
     "output_type": "execute_result"
    }
   ],
   "source": [
    "X_test['uplift_score'] = X_test.eval('proba_CN + proba_TR - proba_TN - proba_CR')\n",
    "X_test.head()"
   ]
  },
  {
   "cell_type": "code",
   "execution_count": 23,
   "metadata": {},
   "outputs": [],
   "source": [
    "overall_proba = xgb_model.predict_proba(df_model.drop(['target_class'],axis=1))"
   ]
  },
  {
   "cell_type": "code",
   "execution_count": 24,
   "metadata": {},
   "outputs": [],
   "source": [
    "df_model['proba_CN'] = overall_proba[:,0] \n",
    "df_model['proba_CR'] = overall_proba[:,1] \n",
    "df_model['proba_TN'] = overall_proba[:,2] \n",
    "df_model['proba_TR'] = overall_proba[:,3]"
   ]
  },
  {
   "cell_type": "code",
   "execution_count": 25,
   "metadata": {},
   "outputs": [],
   "source": [
    "df_model['uplift_score'] = df_model.eval('proba_CN + proba_TR - proba_TN - proba_CR')"
   ]
  },
  {
   "cell_type": "code",
   "execution_count": 26,
   "metadata": {},
   "outputs": [],
   "source": [
    "Olist_db['uplift_score'] = df_model['uplift_score']"
   ]
  },
  {
   "cell_type": "code",
   "execution_count": 27,
   "metadata": {},
   "outputs": [
    {
     "data": {
      "text/html": [
       "<div>\n",
       "<style scoped>\n",
       "    .dataframe tbody tr th:only-of-type {\n",
       "        vertical-align: middle;\n",
       "    }\n",
       "\n",
       "    .dataframe tbody tr th {\n",
       "        vertical-align: top;\n",
       "    }\n",
       "\n",
       "    .dataframe thead th {\n",
       "        text-align: right;\n",
       "    }\n",
       "</style>\n",
       "<table border=\"1\" class=\"dataframe\">\n",
       "  <thead>\n",
       "    <tr style=\"text-align: right;\">\n",
       "      <th></th>\n",
       "      <th>customer_unique_id</th>\n",
       "      <th>recency</th>\n",
       "      <th>frequency</th>\n",
       "      <th>history</th>\n",
       "      <th>used_discount</th>\n",
       "      <th>used_bogo</th>\n",
       "      <th>zip_code</th>\n",
       "      <th>is_referral</th>\n",
       "      <th>channel</th>\n",
       "      <th>offer</th>\n",
       "      <th>conversion</th>\n",
       "      <th>campaign_group</th>\n",
       "      <th>target_class</th>\n",
       "      <th>history_cluster</th>\n",
       "      <th>uplift_score</th>\n",
       "    </tr>\n",
       "  </thead>\n",
       "  <tbody>\n",
       "    <tr>\n",
       "      <th>0</th>\n",
       "      <td>0000b849f77a49e4a4ce2b2a4ca5be3f</td>\n",
       "      <td>14</td>\n",
       "      <td>5</td>\n",
       "      <td>432.90</td>\n",
       "      <td>0</td>\n",
       "      <td>0</td>\n",
       "      <td>Urban</td>\n",
       "      <td>0</td>\n",
       "      <td>Phone</td>\n",
       "      <td>No Offer</td>\n",
       "      <td>0</td>\n",
       "      <td>control</td>\n",
       "      <td>0</td>\n",
       "      <td>0</td>\n",
       "      <td>-0.373584</td>\n",
       "    </tr>\n",
       "    <tr>\n",
       "      <th>1</th>\n",
       "      <td>0000f46a3911fa3c0805444483337064</td>\n",
       "      <td>10</td>\n",
       "      <td>3</td>\n",
       "      <td>583.87</td>\n",
       "      <td>0</td>\n",
       "      <td>0</td>\n",
       "      <td>Urban</td>\n",
       "      <td>1</td>\n",
       "      <td>Web</td>\n",
       "      <td>No Offer</td>\n",
       "      <td>0</td>\n",
       "      <td>control</td>\n",
       "      <td>0</td>\n",
       "      <td>0</td>\n",
       "      <td>-0.365396</td>\n",
       "    </tr>\n",
       "    <tr>\n",
       "      <th>2</th>\n",
       "      <td>0004bd2a26a76fe21f786e4fbd80607f</td>\n",
       "      <td>1</td>\n",
       "      <td>4</td>\n",
       "      <td>480.54</td>\n",
       "      <td>0</td>\n",
       "      <td>0</td>\n",
       "      <td>Suburban</td>\n",
       "      <td>1</td>\n",
       "      <td>Web</td>\n",
       "      <td>Buy One Get One</td>\n",
       "      <td>0</td>\n",
       "      <td>treatment</td>\n",
       "      <td>2</td>\n",
       "      <td>0</td>\n",
       "      <td>-0.350391</td>\n",
       "    </tr>\n",
       "    <tr>\n",
       "      <th>3</th>\n",
       "      <td>00050ab1314c0e55a6ca13cf7181fecf</td>\n",
       "      <td>18</td>\n",
       "      <td>2</td>\n",
       "      <td>160.36</td>\n",
       "      <td>0</td>\n",
       "      <td>1</td>\n",
       "      <td>Rural</td>\n",
       "      <td>1</td>\n",
       "      <td>Web</td>\n",
       "      <td>Discount</td>\n",
       "      <td>0</td>\n",
       "      <td>treatment</td>\n",
       "      <td>2</td>\n",
       "      <td>0</td>\n",
       "      <td>-0.339542</td>\n",
       "    </tr>\n",
       "    <tr>\n",
       "      <th>4</th>\n",
       "      <td>0005ef4cd20d2893f0d9fbd94d3c0d97</td>\n",
       "      <td>40</td>\n",
       "      <td>1</td>\n",
       "      <td>187.91</td>\n",
       "      <td>0</td>\n",
       "      <td>1</td>\n",
       "      <td>Suburban</td>\n",
       "      <td>0</td>\n",
       "      <td>Web</td>\n",
       "      <td>Discount</td>\n",
       "      <td>0</td>\n",
       "      <td>treatment</td>\n",
       "      <td>2</td>\n",
       "      <td>0</td>\n",
       "      <td>-0.299732</td>\n",
       "    </tr>\n",
       "  </tbody>\n",
       "</table>\n",
       "</div>"
      ],
      "text/plain": [
       "                 customer_unique_id  recency  frequency  history  \\\n",
       "0  0000b849f77a49e4a4ce2b2a4ca5be3f       14          5   432.90   \n",
       "1  0000f46a3911fa3c0805444483337064       10          3   583.87   \n",
       "2  0004bd2a26a76fe21f786e4fbd80607f        1          4   480.54   \n",
       "3  00050ab1314c0e55a6ca13cf7181fecf       18          2   160.36   \n",
       "4  0005ef4cd20d2893f0d9fbd94d3c0d97       40          1   187.91   \n",
       "\n",
       "   used_discount  used_bogo  zip_code  is_referral channel            offer  \\\n",
       "0              0          0     Urban            0   Phone         No Offer   \n",
       "1              0          0     Urban            1     Web         No Offer   \n",
       "2              0          0  Suburban            1     Web  Buy One Get One   \n",
       "3              0          1     Rural            1     Web         Discount   \n",
       "4              0          1  Suburban            0     Web         Discount   \n",
       "\n",
       "   conversion campaign_group  target_class  history_cluster  uplift_score  \n",
       "0           0        control             0                0     -0.373584  \n",
       "1           0        control             0                0     -0.365396  \n",
       "2           0      treatment             2                0     -0.350391  \n",
       "3           0      treatment             2                0     -0.339542  \n",
       "4           0      treatment             2                0     -0.299732  "
      ]
     },
     "execution_count": 27,
     "metadata": {},
     "output_type": "execute_result"
    }
   ],
   "source": [
    "Olist_db.head()"
   ]
  },
  {
   "cell_type": "code",
   "execution_count": 28,
   "metadata": {},
   "outputs": [
    {
     "data": {
      "text/plain": [
       "offer\n",
       "Buy One Get One   -0.245037\n",
       "Discount          -0.241847\n",
       "No Offer          -0.236025\n",
       "Name: uplift_score, dtype: float32"
      ]
     },
     "execution_count": 28,
     "metadata": {},
     "output_type": "execute_result"
    }
   ],
   "source": [
    "Olist_db.groupby('offer').uplift_score.mean()"
   ]
  },
  {
   "cell_type": "markdown",
   "metadata": {},
   "source": [
    "### Model Evaluation\n",
    "To evaluate our model, we will create two different groups and compare them with our benchmark. Groups are:\n",
    "- 1- High Uplift Score: Customers have uplift score > 3rd quantile\n",
    "- 2- Low Uplift Score: Customers have uplift score < 2nd quantile\n",
    "\n",
    "We are going to compare:\n",
    "1. Conversion uplift\n",
    "2. Revenue uplift per target customer to see if our model can make our actions more efficient."
   ]
  },
  {
   "cell_type": "code",
   "execution_count": 29,
   "metadata": {},
   "outputs": [],
   "source": [
    "df_data_lift = Olist_db.copy()\n",
    "uplift_q_75 = df_data_lift.uplift_score.quantile(0.75)\n",
    "df_data_lift = df_data_lift[(df_data_lift.offer != 'Buy One Get One') & (df_data_lift.uplift_score > uplift_q_75)].reset_index(drop=True)"
   ]
  },
  {
   "cell_type": "code",
   "execution_count": 30,
   "metadata": {},
   "outputs": [
    {
     "name": "stdout",
     "output_type": "stream",
     "text": [
      "Discount Conversion Uplift: 4.51%\n",
      "Discount Order Uplift: 153.42\n",
      "Discount Revenue Uplift: $2301.26\n",
      "\n"
     ]
    }
   ],
   "source": [
    "calc_uplift(df_data_lift)"
   ]
  },
  {
   "cell_type": "markdown",
   "metadata": {},
   "source": [
    "By using this model, we can easily make our campaign more efficient by:\n",
    "1. Targeting specific segments based on the uplift score\n",
    "2. Trying different offers based on customer’s uplift score"
   ]
  }
 ],
 "metadata": {
  "kernelspec": {
   "display_name": "Python 3",
   "language": "python",
   "name": "python3"
  },
  "language_info": {
   "codemirror_mode": {
    "name": "ipython",
    "version": 3
   },
   "file_extension": ".py",
   "mimetype": "text/x-python",
   "name": "python",
   "nbconvert_exporter": "python",
   "pygments_lexer": "ipython3",
   "version": "3.6.5"
  }
 },
 "nbformat": 4,
 "nbformat_minor": 2
}
