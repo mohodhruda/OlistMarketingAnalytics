{
 "cells": [
  {
   "cell_type": "markdown",
   "metadata": {},
   "source": [
    "# Customer2Vec\n",
    "\n",
    "We learn good semantic representations for customers (users) from transactional data using doc2vec. Each customer is a document, orders are sentences, and products are words. We also compare Customer2Vec with the baseline representations obtained using k-means on manually designed features. \n",
    "\n",
    "The data we used here is based on Instacart market basket data. It has information like product details, departments etc. Later we create the list of user journey in terms of orders made by a user in chronological order. This will help us in recommending products to customer which they are most likely to add to their cart or just continue their subscription for a particular snack category. It can also help us in retaining customers who can churn in future. \n"
   ]
  },
  {
   "cell_type": "code",
   "execution_count": 2,
   "metadata": {},
   "outputs": [
    {
     "name": "stdout",
     "output_type": "stream",
     "text": [
      "Number of CPU cores: 8\n"
     ]
    }
   ],
   "source": [
    "import pandas as pd\n",
    "import matplotlib.pyplot as plt\n",
    "import seaborn as sns; sns.set()\n",
    "from tqdm import tqdm_notebook as tqdm\n",
    "import numpy as np\n",
    "import os\n",
    "from sklearn.manifold import TSNE\n",
    "\n",
    "from sklearn.cluster import KMeans\n",
    "from sklearn.metrics import silhouette_samples, silhouette_score\n",
    "from sklearn import preprocessing\n",
    "\n",
    "pd.options.display.max_rows = 20\n",
    "%matplotlib inline\n",
    "\n",
    "pd.set_option('display.max_rows', 500)\n",
    "pd.set_option('display.max_columns', 500)\n",
    "pd.set_option('display.width', 1000)\n",
    "pd.set_option('display.max_colwidth', 500)\n",
    "\n",
    "from IPython.core.interactiveshell import InteractiveShell\n",
    "InteractiveShell.ast_node_interactivity = \"all\"\n",
    "\n",
    "import glob\n",
    "from IPython.display import display, HTML\n",
    "\n",
    "import multiprocessing as mp\n",
    "print('Number of CPU cores:', mp.cpu_count())"
   ]
  },
  {
   "cell_type": "markdown",
   "metadata": {},
   "source": [
    "## Data Exploration and Preparation"
   ]
  },
  {
   "cell_type": "code",
   "execution_count": 3,
   "metadata": {},
   "outputs": [],
   "source": [
    "os.chdir(r'N:\\Digital Marketing Analytics')"
   ]
  },
  {
   "cell_type": "markdown",
   "metadata": {},
   "source": [
    "### Feature Engineering"
   ]
  },
  {
   "cell_type": "code",
   "execution_count": 7,
   "metadata": {},
   "outputs": [
    {
     "data": {
      "text/html": [
       "<div>\n",
       "<style scoped>\n",
       "    .dataframe tbody tr th:only-of-type {\n",
       "        vertical-align: middle;\n",
       "    }\n",
       "\n",
       "    .dataframe tbody tr th {\n",
       "        vertical-align: top;\n",
       "    }\n",
       "\n",
       "    .dataframe thead th {\n",
       "        text-align: right;\n",
       "    }\n",
       "</style>\n",
       "<table border=\"1\" class=\"dataframe\">\n",
       "  <thead>\n",
       "    <tr style=\"text-align: right;\">\n",
       "      <th></th>\n",
       "      <th>customer_unique_id</th>\n",
       "      <th>order_id</th>\n",
       "      <th>product_id</th>\n",
       "      <th>product_category_name</th>\n",
       "      <th>customer_state</th>\n",
       "      <th>review_score</th>\n",
       "      <th>order_purchase_timestamp</th>\n",
       "    </tr>\n",
       "  </thead>\n",
       "  <tbody>\n",
       "    <tr>\n",
       "      <th>0</th>\n",
       "      <td>5ee8fe956c2631afc0a1dcc1920d0e3d</td>\n",
       "      <td>00010242fe8c5a6d1ba2dd792cb16214</td>\n",
       "      <td>4244733e06e7ecb4970a6e2683c13e61</td>\n",
       "      <td>Cool Stuff</td>\n",
       "      <td>RJ</td>\n",
       "      <td>5</td>\n",
       "      <td>2017-09-13 08:59:02</td>\n",
       "    </tr>\n",
       "    <tr>\n",
       "      <th>1</th>\n",
       "      <td>8b3f917f4307d3e5cf34c0b43d6e6f50</td>\n",
       "      <td>130898c0987d1801452a8ed92a670612</td>\n",
       "      <td>4244733e06e7ecb4970a6e2683c13e61</td>\n",
       "      <td>Cool Stuff</td>\n",
       "      <td>GO</td>\n",
       "      <td>5</td>\n",
       "      <td>2017-06-28 11:52:20</td>\n",
       "    </tr>\n",
       "    <tr>\n",
       "      <th>2</th>\n",
       "      <td>69ba88e17ea574da9c9b8c8834a583d1</td>\n",
       "      <td>532ed5e14e24ae1f0d735b91524b98b9</td>\n",
       "      <td>4244733e06e7ecb4970a6e2683c13e61</td>\n",
       "      <td>Cool Stuff</td>\n",
       "      <td>MG</td>\n",
       "      <td>4</td>\n",
       "      <td>2018-05-18 10:25:53</td>\n",
       "    </tr>\n",
       "    <tr>\n",
       "      <th>3</th>\n",
       "      <td>cbe063493a222cb17024ff0285b4ecb6</td>\n",
       "      <td>6f8c31653edb8c83e1a739408b5ff750</td>\n",
       "      <td>4244733e06e7ecb4970a6e2683c13e61</td>\n",
       "      <td>Cool Stuff</td>\n",
       "      <td>PR</td>\n",
       "      <td>5</td>\n",
       "      <td>2017-08-01 18:38:42</td>\n",
       "    </tr>\n",
       "    <tr>\n",
       "      <th>4</th>\n",
       "      <td>ffab5330bd7b40979ab6726b2e02292e</td>\n",
       "      <td>7d19f4ef4d04461989632411b7e588b9</td>\n",
       "      <td>4244733e06e7ecb4970a6e2683c13e61</td>\n",
       "      <td>Cool Stuff</td>\n",
       "      <td>MG</td>\n",
       "      <td>5</td>\n",
       "      <td>2017-08-10 21:48:40</td>\n",
       "    </tr>\n",
       "  </tbody>\n",
       "</table>\n",
       "</div>"
      ],
      "text/plain": [
       "                 customer_unique_id                          order_id                        product_id product_category_name customer_state  review_score order_purchase_timestamp\n",
       "0  5ee8fe956c2631afc0a1dcc1920d0e3d  00010242fe8c5a6d1ba2dd792cb16214  4244733e06e7ecb4970a6e2683c13e61            Cool Stuff             RJ             5      2017-09-13 08:59:02\n",
       "1  8b3f917f4307d3e5cf34c0b43d6e6f50  130898c0987d1801452a8ed92a670612  4244733e06e7ecb4970a6e2683c13e61            Cool Stuff             GO             5      2017-06-28 11:52:20\n",
       "2  69ba88e17ea574da9c9b8c8834a583d1  532ed5e14e24ae1f0d735b91524b98b9  4244733e06e7ecb4970a6e2683c13e61            Cool Stuff             MG             4      2018-05-18 10:25:53\n",
       "3  cbe063493a222cb17024ff0285b4ecb6  6f8c31653edb8c83e1a739408b5ff750  4244733e06e7ecb4970a6e2683c13e61            Cool Stuff             PR             5      2017-08-01 18:38:42\n",
       "4  ffab5330bd7b40979ab6726b2e02292e  7d19f4ef4d04461989632411b7e588b9  4244733e06e7ecb4970a6e2683c13e61            Cool Stuff             MG             5      2017-08-10 21:48:40"
      ]
     },
     "execution_count": 7,
     "metadata": {},
     "output_type": "execute_result"
    }
   ],
   "source": [
    "prior_orders = pd.read_csv('Olist_Master.csv')\n",
    "features = ['customer_unique_id', 'order_id', 'product_id', 'product_category_name', 'customer_state', 'review_score', 'order_purchase_timestamp']\n",
    "#prior_orders = prior_orders.merge(right=orders[['user_id','order_id','order_number']],on='order_id',how='left')\n",
    "prior_orders = prior_orders[features]\n",
    "prior_orders.head()"
   ]
  },
  {
   "cell_type": "code",
   "execution_count": 10,
   "metadata": {},
   "outputs": [],
   "source": [
    "prior_orders.loc[prior_orders.product_category_name == 'Cool Stuff', 'product_category_name'] = 'Laptops'"
   ]
  },
  {
   "cell_type": "code",
   "execution_count": 11,
   "metadata": {},
   "outputs": [
    {
     "data": {
      "text/plain": [
       "Index(['customer_unique_id', 'order_id', 'product_id', 'product_category_name', 'customer_state', 'review_score', 'order_purchase_timestamp'], dtype='object')"
      ]
     },
     "execution_count": 11,
     "metadata": {},
     "output_type": "execute_result"
    }
   ],
   "source": [
    "prior_orders.columns"
   ]
  },
  {
   "cell_type": "code",
   "execution_count": 12,
   "metadata": {},
   "outputs": [
    {
     "data": {
      "text/plain": [
       "(116581, 7)"
      ]
     },
     "execution_count": 12,
     "metadata": {},
     "output_type": "execute_result"
    }
   ],
   "source": [
    "prior_orders.shape"
   ]
  },
  {
   "cell_type": "code",
   "execution_count": 13,
   "metadata": {},
   "outputs": [
    {
     "data": {
      "text/plain": [
       "(101172, 7)"
      ]
     },
     "execution_count": 13,
     "metadata": {},
     "output_type": "execute_result"
    }
   ],
   "source": [
    "prior_orders = prior_orders.drop_duplicates()\n",
    "prior_orders.shape"
   ]
  },
  {
   "cell_type": "code",
   "execution_count": 33,
   "metadata": {},
   "outputs": [],
   "source": [
    "from datetime import datetime\n",
    "prior_orders['order_purchase_timestamp'] = prior_orders.order_purchase_timestamp.apply(lambda x: pd.to_datetime(x, format=\"%Y-%m-%d\"))\n",
    "prior_orders['order_purchase_date'] = prior_orders.order_purchase_timestamp.apply(lambda x : datetime.strftime(x, '%Y-%m-%d'))\n",
    "prior_orders['order_purchase_date'] = pd.to_datetime(prior_orders['order_purchase_date'])"
   ]
  },
  {
   "cell_type": "code",
   "execution_count": 36,
   "metadata": {},
   "outputs": [
    {
     "data": {
      "text/html": [
       "<div>\n",
       "<style scoped>\n",
       "    .dataframe tbody tr th:only-of-type {\n",
       "        vertical-align: middle;\n",
       "    }\n",
       "\n",
       "    .dataframe tbody tr th {\n",
       "        vertical-align: top;\n",
       "    }\n",
       "\n",
       "    .dataframe thead th {\n",
       "        text-align: right;\n",
       "    }\n",
       "</style>\n",
       "<table border=\"1\" class=\"dataframe\">\n",
       "  <thead>\n",
       "    <tr style=\"text-align: right;\">\n",
       "      <th></th>\n",
       "      <th>customer_unique_id</th>\n",
       "      <th>order_id</th>\n",
       "      <th>product_id</th>\n",
       "      <th>product_category_name</th>\n",
       "      <th>customer_state</th>\n",
       "      <th>review_score</th>\n",
       "      <th>order_purchase_timestamp</th>\n",
       "      <th>order_purchase_date</th>\n",
       "    </tr>\n",
       "  </thead>\n",
       "  <tbody>\n",
       "    <tr>\n",
       "      <th>0</th>\n",
       "      <td>5ee8fe956c2631afc0a1dcc1920d0e3d</td>\n",
       "      <td>00010242fe8c5a6d1ba2dd792cb16214</td>\n",
       "      <td>4244733e06e7ecb4970a6e2683c13e61</td>\n",
       "      <td>Laptops</td>\n",
       "      <td>RJ</td>\n",
       "      <td>5</td>\n",
       "      <td>2017-09-13 08:59:02</td>\n",
       "      <td>2017-09-13</td>\n",
       "    </tr>\n",
       "    <tr>\n",
       "      <th>1</th>\n",
       "      <td>8b3f917f4307d3e5cf34c0b43d6e6f50</td>\n",
       "      <td>130898c0987d1801452a8ed92a670612</td>\n",
       "      <td>4244733e06e7ecb4970a6e2683c13e61</td>\n",
       "      <td>Laptops</td>\n",
       "      <td>GO</td>\n",
       "      <td>5</td>\n",
       "      <td>2017-06-28 11:52:20</td>\n",
       "      <td>2017-06-28</td>\n",
       "    </tr>\n",
       "    <tr>\n",
       "      <th>2</th>\n",
       "      <td>69ba88e17ea574da9c9b8c8834a583d1</td>\n",
       "      <td>532ed5e14e24ae1f0d735b91524b98b9</td>\n",
       "      <td>4244733e06e7ecb4970a6e2683c13e61</td>\n",
       "      <td>Laptops</td>\n",
       "      <td>MG</td>\n",
       "      <td>4</td>\n",
       "      <td>2018-05-18 10:25:53</td>\n",
       "      <td>2018-05-18</td>\n",
       "    </tr>\n",
       "    <tr>\n",
       "      <th>3</th>\n",
       "      <td>cbe063493a222cb17024ff0285b4ecb6</td>\n",
       "      <td>6f8c31653edb8c83e1a739408b5ff750</td>\n",
       "      <td>4244733e06e7ecb4970a6e2683c13e61</td>\n",
       "      <td>Laptops</td>\n",
       "      <td>PR</td>\n",
       "      <td>5</td>\n",
       "      <td>2017-08-01 18:38:42</td>\n",
       "      <td>2017-08-01</td>\n",
       "    </tr>\n",
       "    <tr>\n",
       "      <th>4</th>\n",
       "      <td>ffab5330bd7b40979ab6726b2e02292e</td>\n",
       "      <td>7d19f4ef4d04461989632411b7e588b9</td>\n",
       "      <td>4244733e06e7ecb4970a6e2683c13e61</td>\n",
       "      <td>Laptops</td>\n",
       "      <td>MG</td>\n",
       "      <td>5</td>\n",
       "      <td>2017-08-10 21:48:40</td>\n",
       "      <td>2017-08-10</td>\n",
       "    </tr>\n",
       "    <tr>\n",
       "      <th>...</th>\n",
       "      <td>...</td>\n",
       "      <td>...</td>\n",
       "      <td>...</td>\n",
       "      <td>...</td>\n",
       "      <td>...</td>\n",
       "      <td>...</td>\n",
       "      <td>...</td>\n",
       "      <td>...</td>\n",
       "    </tr>\n",
       "    <tr>\n",
       "      <th>116574</th>\n",
       "      <td>a50a18d0f932c1cf1dec68cc1d281d8a</td>\n",
       "      <td>fd607d0a02cb276bc764a15f80f0423f</td>\n",
       "      <td>02ad78835ec3f72e750d1dfa6a7e11b3</td>\n",
       "      <td>Furniture Decor</td>\n",
       "      <td>BA</td>\n",
       "      <td>5</td>\n",
       "      <td>2018-07-26 09:13:04</td>\n",
       "      <td>2018-07-26</td>\n",
       "    </tr>\n",
       "    <tr>\n",
       "      <th>116576</th>\n",
       "      <td>e060eb8f37de232154b24bbb2413b68e</td>\n",
       "      <td>fdaf98feac227eb978d8f33f36e0231d</td>\n",
       "      <td>f739e9151702508b18f796c53005e5e9</td>\n",
       "      <td>Furniture Decor</td>\n",
       "      <td>RJ</td>\n",
       "      <td>4</td>\n",
       "      <td>2017-04-19 10:20:51</td>\n",
       "      <td>2017-04-19</td>\n",
       "    </tr>\n",
       "    <tr>\n",
       "      <th>116577</th>\n",
       "      <td>3041f5d65c4fa516eed1325d7a8657af</td>\n",
       "      <td>fe68b52db13993f58175fa589125d345</td>\n",
       "      <td>f4135cbdece8245560f7be179533797a</td>\n",
       "      <td>Electronics</td>\n",
       "      <td>SP</td>\n",
       "      <td>4</td>\n",
       "      <td>2017-08-11 10:15:22</td>\n",
       "      <td>2017-08-11</td>\n",
       "    </tr>\n",
       "    <tr>\n",
       "      <th>116578</th>\n",
       "      <td>57b628f46c00f9a7358e5e875d5b4dd0</td>\n",
       "      <td>fefacc66af859508bf1a7934eab1e97f</td>\n",
       "      <td>69c590f7ffc7bf8db97190b6cb6ed62e</td>\n",
       "      <td>Computers</td>\n",
       "      <td>ES</td>\n",
       "      <td>1</td>\n",
       "      <td>2018-07-25 18:10:17</td>\n",
       "      <td>2018-07-25</td>\n",
       "    </tr>\n",
       "    <tr>\n",
       "      <th>116579</th>\n",
       "      <td>ea4d52b176423e61a84052b0f4717be9</td>\n",
       "      <td>ff701a7c869ad21de22a6994237c8a00</td>\n",
       "      <td>5ff4076c0f01eeba4f728c9e3fa2653c</td>\n",
       "      <td>Drinks</td>\n",
       "      <td>SP</td>\n",
       "      <td>5</td>\n",
       "      <td>2018-04-12 19:47:40</td>\n",
       "      <td>2018-04-12</td>\n",
       "    </tr>\n",
       "  </tbody>\n",
       "</table>\n",
       "<p>101172 rows × 8 columns</p>\n",
       "</div>"
      ],
      "text/plain": [
       "                      customer_unique_id                          order_id                        product_id product_category_name customer_state  review_score order_purchase_timestamp order_purchase_date\n",
       "0       5ee8fe956c2631afc0a1dcc1920d0e3d  00010242fe8c5a6d1ba2dd792cb16214  4244733e06e7ecb4970a6e2683c13e61               Laptops             RJ             5      2017-09-13 08:59:02          2017-09-13\n",
       "1       8b3f917f4307d3e5cf34c0b43d6e6f50  130898c0987d1801452a8ed92a670612  4244733e06e7ecb4970a6e2683c13e61               Laptops             GO             5      2017-06-28 11:52:20          2017-06-28\n",
       "2       69ba88e17ea574da9c9b8c8834a583d1  532ed5e14e24ae1f0d735b91524b98b9  4244733e06e7ecb4970a6e2683c13e61               Laptops             MG             4      2018-05-18 10:25:53          2018-05-18\n",
       "3       cbe063493a222cb17024ff0285b4ecb6  6f8c31653edb8c83e1a739408b5ff750  4244733e06e7ecb4970a6e2683c13e61               Laptops             PR             5      2017-08-01 18:38:42          2017-08-01\n",
       "4       ffab5330bd7b40979ab6726b2e02292e  7d19f4ef4d04461989632411b7e588b9  4244733e06e7ecb4970a6e2683c13e61               Laptops             MG             5      2017-08-10 21:48:40          2017-08-10\n",
       "...                                  ...                               ...                               ...                   ...            ...           ...                      ...                 ...\n",
       "116574  a50a18d0f932c1cf1dec68cc1d281d8a  fd607d0a02cb276bc764a15f80f0423f  02ad78835ec3f72e750d1dfa6a7e11b3       Furniture Decor             BA             5      2018-07-26 09:13:04          2018-07-26\n",
       "116576  e060eb8f37de232154b24bbb2413b68e  fdaf98feac227eb978d8f33f36e0231d  f739e9151702508b18f796c53005e5e9       Furniture Decor             RJ             4      2017-04-19 10:20:51          2017-04-19\n",
       "116577  3041f5d65c4fa516eed1325d7a8657af  fe68b52db13993f58175fa589125d345  f4135cbdece8245560f7be179533797a           Electronics             SP             4      2017-08-11 10:15:22          2017-08-11\n",
       "116578  57b628f46c00f9a7358e5e875d5b4dd0  fefacc66af859508bf1a7934eab1e97f  69c590f7ffc7bf8db97190b6cb6ed62e             Computers             ES             1      2018-07-25 18:10:17          2018-07-25\n",
       "116579  ea4d52b176423e61a84052b0f4717be9  ff701a7c869ad21de22a6994237c8a00  5ff4076c0f01eeba4f728c9e3fa2653c                Drinks             SP             5      2018-04-12 19:47:40          2018-04-12\n",
       "\n",
       "[101172 rows x 8 columns]"
      ]
     },
     "execution_count": 36,
     "metadata": {},
     "output_type": "execute_result"
    }
   ],
   "source": [
    "prior_orders"
   ]
  },
  {
   "cell_type": "code",
   "execution_count": 42,
   "metadata": {},
   "outputs": [
    {
     "data": {
      "text/plain": [
       "customer_unique_id                product_id                      \n",
       "0000b849f77a49e4a4ce2b2a4ca5be3f  64d33e6bd1b905a31c2f96f584e6a0c8    1\n",
       "                                  f8ea5fcf9c628485e01b9c3cf52728c2    1\n",
       "0000f46a3911fa3c0805444483337064  0705b33fb285827a578fce4899f1b921    1\n",
       "                                  5328338cfaa16ba10561cd970c73ca11    1\n",
       "                                  c20d93bddf6dbfdaffdfda9e9a2e0d7b    1\n",
       "                                                                     ..\n",
       "fffbf87b7a1a6fa8b03f081c5f51a201  1a6c9da4039deae58c2b769f049ae121    1\n",
       "                                  7934d547a892c625b8f469a2242961c3    1\n",
       "fffcc512b7dfecaffd80f13614af1d16  4d614d466f2eba2e50e683ebb1460351    1\n",
       "fffea47cd6d3cc0a88bd621562a9d061  083ffd30820b592e294de7ed668ff975    1\n",
       "                                  917b949f2215f3567f3e01deb87138f9    1\n",
       "Name: order_purchase_date, Length: 100891, dtype: int64"
      ]
     },
     "execution_count": 42,
     "metadata": {},
     "output_type": "execute_result"
    }
   ],
   "source": [
    "prior_orders.groupby(['customer_unique_id', 'product_id'])['order_purchase_date'].nunique()"
   ]
  },
  {
   "cell_type": "code",
   "execution_count": 47,
   "metadata": {},
   "outputs": [],
   "source": [
    "temp = prior_orders.sort_values(by=['customer_unique_id'], ascending=True)\n",
    "prior_orders = temp.iloc[:20000, :]"
   ]
  },
  {
   "cell_type": "code",
   "execution_count": 48,
   "metadata": {},
   "outputs": [
    {
     "data": {
      "text/plain": [
       "<pandas.core.groupby.generic.DataFrameGroupBy object at 0x00000220B004F240>"
      ]
     },
     "execution_count": 48,
     "metadata": {},
     "output_type": "execute_result"
    }
   ],
   "source": [
    "prior_orders = prior_orders.reset_index(drop=True)\n",
    "prior_orders['List Index'] = prior_orders.index\n",
    "customers_group = prior_orders.groupby(\"customer_unique_id\")\n",
    "customers_group"
   ]
  },
  {
   "cell_type": "code",
   "execution_count": 49,
   "metadata": {},
   "outputs": [],
   "source": [
    "total = []\n",
    "for customer_unique_id, curCust in customers_group:\n",
    "    temp = np.zeros(len(prior_orders))\n",
    "\n",
    "    for num, Product in curCust.iterrows():\n",
    "        temp[Product['List Index']] = Product['review_score'] / 5.0\n",
    "\n",
    "    total.append(temp)\n"
   ]
  },
  {
   "cell_type": "code",
   "execution_count": 50,
   "metadata": {},
   "outputs": [
    {
     "data": {
      "text/plain": [
       "8159"
      ]
     },
     "execution_count": 50,
     "metadata": {},
     "output_type": "execute_result"
    }
   ],
   "source": [
    "len(total)"
   ]
  },
  {
   "cell_type": "code",
   "execution_count": 52,
   "metadata": {},
   "outputs": [],
   "source": [
    "import random\n",
    "random.shuffle(total)\n",
    "train = total[:7000]\n",
    "valid = total[7000:]"
   ]
  },
  {
   "cell_type": "code",
   "execution_count": 57,
   "metadata": {},
   "outputs": [],
   "source": [
    "import tensorflow as tf\n",
    "import warnings\n",
    "warnings.filterwarnings('ignore')\n",
    "\n",
    "hiddenUnits = 64\n",
    "visibleUnits = len(prior_orders)\n",
    "\n",
    "# Number of unique movies\n",
    "vb = tf.placeholder(tf.float32, [visibleUnits])\n",
    "\n",
    "# Number of features that we are going to learn\n",
    "hb = tf.placeholder(tf.float32, [hiddenUnits])\n",
    "W = tf.placeholder(tf.float32, [visibleUnits, hiddenUnits]) "
   ]
  },
  {
   "cell_type": "code",
   "execution_count": null,
   "metadata": {},
   "outputs": [],
   "source": []
  },
  {
   "cell_type": "code",
   "execution_count": 43,
   "metadata": {},
   "outputs": [],
   "source": [
    "# Sample users to keep the problem computationaly tractable \n",
    "USER_SUBSET = 15000\n",
    "np.random.seed(42)\n",
    "user_ids_sample = prior_orders['customer_unique_id'].sample(n=USER_SUBSET, replace=False)"
   ]
  },
  {
   "cell_type": "code",
   "execution_count": 58,
   "metadata": {},
   "outputs": [],
   "source": [
    "v0 = tf.placeholder(\"float\", [None, visibleUnits])\n",
    "_h0 = tf.nn.sigmoid(tf.matmul(v0, W) + hb)  # Visible layer activation\n",
    "# Gibb's Sampling\n",
    "h0 = tf.nn.relu(tf.sign(_h0 - tf.random_uniform(tf.shape(_h0))))"
   ]
  },
  {
   "cell_type": "code",
   "execution_count": 59,
   "metadata": {},
   "outputs": [],
   "source": [
    "# Hidden layer activation\n",
    "_v1 = tf.nn.sigmoid(tf.matmul(h0, tf.transpose(W)) + vb)  \n",
    "v1 = tf.nn.relu(tf.sign(_v1 - tf.random_uniform(tf.shape(_v1))))\n",
    "h1 = tf.nn.sigmoid(tf.matmul(v1, W) + hb)"
   ]
  },
  {
   "cell_type": "code",
   "execution_count": 60,
   "metadata": {},
   "outputs": [],
   "source": [
    "# Learning rate\n",
    "alpha = 0.6\n",
    "\n",
    "# Creating the gradients\n",
    "w_pos_grad = tf.matmul(tf.transpose(v0), h0)\n",
    "w_neg_grad = tf.matmul(tf.transpose(v1), h1)"
   ]
  },
  {
   "cell_type": "code",
   "execution_count": 61,
   "metadata": {},
   "outputs": [],
   "source": [
    "# Calculate the Contrastive Divergence to maximize\n",
    "CD = (w_pos_grad - w_neg_grad) / tf.to_float(tf.shape(v0)[0])\n",
    "\n",
    "# Create methods to update the weights and biases\n",
    "update_w = W + alpha * CD\n",
    "update_vb = vb + alpha * tf.reduce_mean(v0 - v1, 0)\n",
    "update_hb = hb + alpha * tf.reduce_mean(h0 - h1, 0)"
   ]
  },
  {
   "cell_type": "code",
   "execution_count": 62,
   "metadata": {},
   "outputs": [],
   "source": [
    "#Set the error function, here we use Mean Absolute Error Function\n",
    "err = v0 - v1\n",
    "err_sum = tf.reduce_mean(err * err)"
   ]
  },
  {
   "cell_type": "code",
   "execution_count": 63,
   "metadata": {},
   "outputs": [],
   "source": [
    "# Current weight\n",
    "cur_w = np.random.normal(loc=0, scale=0.01, size=[visibleUnits, hiddenUnits])\n",
    "\n",
    "# Current visible unit biases\n",
    "cur_vb = np.zeros([visibleUnits], np.float32)\n",
    "\n",
    "# Current hidden unit biases\n",
    "cur_hb = np.zeros([hiddenUnits], np.float32)\n",
    "\n",
    "# Previous weight\n",
    "prv_w = np.zeros([visibleUnits, hiddenUnits], np.float32)\n",
    "\n",
    "# Previous visible unit biases\n",
    "prv_vb = np.zeros([visibleUnits], np.float32)\n",
    "\n",
    "# Previous hidden unit biases\n",
    "prv_hb = np.zeros([hiddenUnits], np.float32)\n"
   ]
  },
  {
   "cell_type": "code",
   "execution_count": 64,
   "metadata": {},
   "outputs": [],
   "source": [
    "# Running the session\n",
    "config = tf.ConfigProto()\n",
    "config.gpu_options.allow_growth = True\n",
    "sess = tf.Session(config=config)\n",
    "sess.run(tf.global_variables_initializer())"
   ]
  },
  {
   "cell_type": "code",
   "execution_count": 65,
   "metadata": {},
   "outputs": [],
   "source": [
    "def free_energy(v_sample, W, vb, hb):\n",
    "    ''' Function to compute the free energy '''\n",
    "    wx_b = np.dot(v_sample, W) + hb\n",
    "    vbias_term = np.dot(v_sample, vb)\n",
    "    hidden_term = np.sum(np.log(1 + np.exp(wx_b)), axis = 1)\n",
    "    return -hidden_term - vbias_term"
   ]
  },
  {
   "cell_type": "code",
   "execution_count": 66,
   "metadata": {},
   "outputs": [
    {
     "name": "stdout",
     "output_type": "stream",
     "text": [
      "Error in epoch 0 is: 0.00021576366270892322\n",
      "Error in epoch 10 is: 0.00018954234838020056\n",
      "Error in epoch 20 is: 0.00019080234051216394\n",
      "Error in epoch 30 is: 0.00019309947674628347\n",
      "Error in epoch 40 is: 0.0001904766249936074\n",
      "Error in epoch 50 is: 0.00018690664728637785\n"
     ]
    }
   ],
   "source": [
    "epochs = 60\n",
    "batchsize = 100\n",
    "errors = []\n",
    "energy_train = []\n",
    "energy_valid = []\n",
    "for i in range(epochs):\n",
    "    for start, end in zip(range(0, len(train), batchsize), range(batchsize, len(train), batchsize)):\n",
    "        batch = train[start:end]\n",
    "        cur_w = sess.run(update_w, feed_dict={\n",
    "                         v0: batch, W: prv_w, vb: prv_vb, hb: prv_hb})\n",
    "        cur_vb = sess.run(update_vb, feed_dict={\n",
    "                          v0: batch, W: prv_w, vb: prv_vb, hb: prv_hb})\n",
    "        cur_hb = sess.run(update_hb, feed_dict={\n",
    "                          v0: batch, W: prv_w, vb: prv_vb, hb: prv_hb})\n",
    "        prv_w = cur_w\n",
    "        prv_vb = cur_vb\n",
    "        prv_hb = cur_hb\n",
    "\n",
    "    energy_train.append(np.mean(free_energy(train, cur_w, cur_vb, cur_hb)))\n",
    "    energy_valid.append(np.mean(free_energy(valid, cur_w, cur_vb, cur_hb)))\n",
    "\n",
    "    errors.append(sess.run(err_sum, feed_dict={\n",
    "                  v0: train, W: cur_w, vb: cur_vb, hb: cur_hb}))\n",
    "    if i % 10 == 0:\n",
    "        print(\"Error in epoch {0} is: {1}\".format(i, errors[i]))\n"
   ]
  },
  {
   "cell_type": "code",
   "execution_count": null,
   "metadata": {},
   "outputs": [],
   "source": []
  },
  {
   "cell_type": "code",
   "execution_count": null,
   "metadata": {},
   "outputs": [],
   "source": []
  },
  {
   "cell_type": "code",
   "execution_count": null,
   "metadata": {},
   "outputs": [],
   "source": []
  },
  {
   "cell_type": "code",
   "execution_count": 67,
   "metadata": {},
   "outputs": [
    {
     "data": {
      "text/plain": [
       "[<matplotlib.lines.Line2D at 0x226e3048160>]"
      ]
     },
     "execution_count": 67,
     "metadata": {},
     "output_type": "execute_result"
    },
    {
     "data": {
      "text/plain": [
       "[<matplotlib.lines.Line2D at 0x226e3089080>]"
      ]
     },
     "execution_count": 67,
     "metadata": {},
     "output_type": "execute_result"
    },
    {
     "data": {
      "text/plain": [
       "Text(0.5,0,'Epoch')"
      ]
     },
     "execution_count": 67,
     "metadata": {},
     "output_type": "execute_result"
    },
    {
     "data": {
      "text/plain": [
       "Text(0,0.5,'Free Energy')"
      ]
     },
     "execution_count": 67,
     "metadata": {},
     "output_type": "execute_result"
    },
    {
     "data": {
      "image/png": "[encoded data removed]",
      "text/plain": [
       "<Figure size 432x288 with 1 Axes>"
      ]
     },
     "metadata": {
      "needs_background": "light"
     },
     "output_type": "display_data"
    }
   ],
   "source": [
    "fig, ax = plt.subplots()\n",
    "ax.plot(energy_train, label='train')\n",
    "ax.plot(energy_valid, label='valid')\n",
    "leg = ax.legend()\n",
    "plt.xlabel(\"Epoch\")\n",
    "plt.ylabel(\"Free Energy\")\n",
    "plt.savefig(\"free_energy.png\")\n",
    "plt.show()"
   ]
  },
  {
   "cell_type": "code",
   "execution_count": 68,
   "metadata": {},
   "outputs": [
    {
     "data": {
      "text/plain": [
       "[<matplotlib.lines.Line2D at 0x226e3134c18>]"
      ]
     },
     "execution_count": 68,
     "metadata": {},
     "output_type": "execute_result"
    },
    {
     "data": {
      "text/plain": [
       "Text(0.5,0,'Epoch')"
      ]
     },
     "execution_count": 68,
     "metadata": {},
     "output_type": "execute_result"
    },
    {
     "data": {
      "text/plain": [
       "Text(0,0.5,'Error')"
      ]
     },
     "execution_count": 68,
     "metadata": {},
     "output_type": "execute_result"
    },
    {
     "data": {
      "image/png": "[encoded data removed]",
      "text/plain": [
       "<Figure size 432x288 with 1 Axes>"
      ]
     },
     "metadata": {
      "needs_background": "light"
     },
     "output_type": "display_data"
    }
   ],
   "source": [
    "plt.plot(errors)\n",
    "plt.xlabel(\"Epoch\")\n",
    "plt.ylabel(\"Error\")\n",
    "plt.savefig(\"error.png\")\n",
    "plt.show()"
   ]
  },
  {
   "cell_type": "code",
   "execution_count": 104,
   "metadata": {},
   "outputs": [
    {
     "data": {
      "text/plain": [
       "[array([0., 0., 0., ..., 0., 0., 0.])]"
      ]
     },
     "execution_count": 104,
     "metadata": {},
     "output_type": "execute_result"
    }
   ],
   "source": [
    "user = 100\n",
    "inputUser = [train[user]]\n",
    "inputUser"
   ]
  },
  {
   "cell_type": "code",
   "execution_count": 105,
   "metadata": {},
   "outputs": [],
   "source": [
    "# Feeding in the User and Reconstructing the input\n",
    "hh0 = tf.nn.sigmoid(tf.matmul(v0, W) + hb)\n",
    "vv1 = tf.nn.sigmoid(tf.matmul(hh0, tf.transpose(W)) + vb)\n",
    "feed = sess.run(hh0, feed_dict={v0: inputUser, W: prv_w, hb: prv_hb})\n",
    "rec = sess.run(vv1, feed_dict={hh0: feed, W: prv_w, vb: prv_vb})\n"
   ]
  },
  {
   "cell_type": "code",
   "execution_count": 106,
   "metadata": {},
   "outputs": [],
   "source": [
    "# Creating recommendation score for books in our data\n",
    "prior_orders[\"Recommendation Score\"] = rec[0]\n",
    "\n",
    "# Find the mock user's user_id from the data\n",
    "cur_user_id = prior_orders.iloc[user]['customer_unique_id']\n",
    "\n",
    "# Find all books the mock user has read before\n",
    "prods_ordered = prior_orders[prior_orders['customer_unique_id'] == cur_user_id]['product_id']\n",
    "\n",
    "# converting the pandas series object into a list\n",
    "read_prod_id = prods_ordered.tolist()\n",
    "\n",
    "# getting the book names and authors for the books already read by the user\n",
    "order_prod_names = []\n",
    "#read_prod_authors = []\n",
    "for prod in read_prod_id:\n",
    "    order_prod_names.append(\n",
    "        prior_orders[prior_orders['product_id'] == prod]['product_category_name'].tolist()[0])\n",
    "    "
   ]
  },
  {
   "cell_type": "code",
   "execution_count": 107,
   "metadata": {},
   "outputs": [
    {
     "data": {
      "text/plain": [
       "['f6c8384f424cad1a22fd89bbc62ff7ae',\n",
       " 'c03500a4a72be532834b3d947821d519',\n",
       " '586328f570ac0b651d452f1227db4d1c']"
      ]
     },
     "execution_count": 107,
     "metadata": {},
     "output_type": "execute_result"
    }
   ],
   "source": [
    "read_prod_id"
   ]
  },
  {
   "cell_type": "code",
   "execution_count": 108,
   "metadata": {},
   "outputs": [
    {
     "data": {
      "text/plain": [
       "11043"
      ]
     },
     "execution_count": 108,
     "metadata": {},
     "output_type": "execute_result"
    }
   ],
   "source": [
    "all_prod = prior_orders.product_id.unique()\n",
    "all_prod_id = all_prod.tolist()\n",
    "len(all_prod_id)"
   ]
  },
  {
   "cell_type": "code",
   "execution_count": 109,
   "metadata": {},
   "outputs": [
    {
     "data": {
      "text/plain": [
       "11040"
      ]
     },
     "execution_count": 109,
     "metadata": {},
     "output_type": "execute_result"
    }
   ],
   "source": [
    "# Find all books the mock user has 'not' read before using the to_read data\n",
    "unbought_prod = list(set(all_prod_id) - set(read_prod_id))\n",
    "len(unbought_prod)"
   ]
  },
  {
   "cell_type": "code",
   "execution_count": 110,
   "metadata": {},
   "outputs": [],
   "source": [
    "# extract the ratings of all the unread books from ratings dataframe\n",
    "unbought_with_score = prior_orders[prior_orders['product_id'].isin(unbought_prod)]\n",
    "\n",
    "# grouping the unread data on book id and taking the mean of the recommendation scores for each book_id\n",
    "grouped_unbought = unbought_with_score.groupby('product_id', as_index=False)[\n",
    "    'Recommendation Score'].mean()"
   ]
  },
  {
   "cell_type": "code",
   "execution_count": 111,
   "metadata": {},
   "outputs": [],
   "source": [
    "# getting the names and authors of the unread books\n",
    "unbought_prod_names = []\n",
    "unbought_prod_scores = []\n",
    "for product in grouped_unbought['product_id']:\n",
    "    unbought_prod_names.append(\n",
    "        prior_orders[prior_orders['product_id'] == product]['product_category_name'].tolist()[0])\n",
    "    unbought_prod_scores.append(\n",
    "        grouped_unbought[grouped_unbought['product_id'] == product]['Recommendation Score'].tolist()[0])\n"
   ]
  },
  {
   "cell_type": "code",
   "execution_count": 137,
   "metadata": {},
   "outputs": [
    {
     "name": "stdout",
     "output_type": "stream",
     "text": [
      "The Products bought by the user are:\n",
      "    Product_name\n",
      "0       Pet Shop\n",
      "1       Pet Shop\n",
      "2  Watches Gifts\n",
      "The Products recommended to the user are:\n",
      "          Product_name     score\n",
      "1251              Auto  0.000589\n",
      "3073   Furniture Decor  0.000569\n",
      "10540      Electronics  0.000499\n",
      "5501        Housewares  0.000489\n",
      "9075   Furniture Decor  0.000468\n",
      "...                ...       ...\n",
      "9951        Stationery  0.000002\n",
      "6265    Bed Bath Table  0.000002\n",
      "10496    Watches Gifts  0.000002\n",
      "9712   Furniture Decor  0.000002\n",
      "6078   Furniture Decor  0.000001\n",
      "\n",
      "[11040 rows x 2 columns]\n"
     ]
    }
   ],
   "source": [
    "# creating a data frame for unbought products with their names and recommendation scores\n",
    "unbought_prod_with_scores = pd.DataFrame({\n",
    "    'Product_name': unbought_prod_names,\n",
    "    'score': unbought_prod_scores\n",
    "})\n",
    "\n",
    "# creating a data frame for read books with the names and authors\n",
    "buy_prod_with_names = pd.DataFrame({\n",
    "    'Product_name': order_prod_names\n",
    "})\n",
    "\n",
    "# sort the result in descending order of the recommendation score\n",
    "sorted_result = unbought_prod_with_scores.sort_values(\n",
    "    by='score', ascending=False)\n",
    "\n",
    "# exporting the read and unread books  with scores to csv files\n",
    "buy_prod_with_names.to_csv('buy_prod_with_names.csv')\n",
    "sorted_result.to_csv('unbought_prod_with_scores.csv')\n",
    "print('The Products bought by the user are:')\n",
    "print(buy_prod_with_names)\n",
    "print('The Products recommended to the user are:')\n",
    "print(sorted_result)"
   ]
  },
  {
   "cell_type": "code",
   "execution_count": 138,
   "metadata": {},
   "outputs": [
    {
     "data": {
      "text/plain": [
       "Product_name\n",
       "Sports Leisure                     0.004830\n",
       "Furniture Decor                    0.003623\n",
       "Housewares                         0.003184\n",
       "Watches Gifts                      0.003162\n",
       "Bed Bath Table                     0.003036\n",
       "Auto                               0.002934\n",
       "Health Beauty                      0.002334\n",
       "Computers Accessories              0.001846\n",
       "Garden Tools                       0.001456\n",
       "Consoles Games                     0.001228\n",
       "Toys                               0.001215\n",
       "Electronics                        0.000908\n",
       "Fixed Telephony                    0.000851\n",
       "Telephony                          0.000810\n",
       "Perfumery                          0.000764\n",
       "Fashion Bags Accessories           0.000758\n",
       "Stationery                         0.000751\n",
       "Luggage Accessories                0.000746\n",
       "Home Appliances                    0.000701\n",
       "Market Place                       0.000465\n",
       "Fashion Shoes                      0.000443\n",
       "Home Construction                  0.000428\n",
       "Construction Tools Safety          0.000415\n",
       "Home Appliances 2                  0.000412\n",
       "Laptops                            0.000390\n",
       "Construction Tools Construction    0.000374\n",
       "Construction Tools Lights          0.000354\n",
       "Office Furniture                   0.000351\n",
       "Costruction Tools Garden           0.000349\n",
       "Baby                               0.000345\n",
       "Name: score, dtype: float64"
      ]
     },
     "execution_count": 138,
     "metadata": {},
     "output_type": "execute_result"
    }
   ],
   "source": [
    "sorted_result = sorted_result[:100].groupby(['Product_name']).score.sum()\n",
    "sorted_result.sort_values(ascending=False)"
   ]
  },
  {
   "cell_type": "code",
   "execution_count": null,
   "metadata": {},
   "outputs": [],
   "source": []
  },
  {
   "cell_type": "code",
   "execution_count": null,
   "metadata": {},
   "outputs": [],
   "source": []
  },
  {
   "cell_type": "code",
   "execution_count": null,
   "metadata": {},
   "outputs": [],
   "source": []
  }
 ],
 "metadata": {
  "kernelspec": {
   "display_name": "Python 3",
   "language": "python",
   "name": "python3"
  },
  "language_info": {
   "codemirror_mode": {
    "name": "ipython",
    "version": 3
   },
   "file_extension": ".py",
   "mimetype": "text/x-python",
   "name": "python",
   "nbconvert_exporter": "python",
   "pygments_lexer": "ipython3",
   "version": "3.6.5"
  }
 },
 "nbformat": 4,
 "nbformat_minor": 4
}
